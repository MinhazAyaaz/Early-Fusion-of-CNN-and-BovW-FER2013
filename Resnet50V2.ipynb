{
  "cells": [
    {
      "cell_type": "code",
      "execution_count": null,
      "metadata": {
        "id": "vpjYzkhjmcRE"
      },
      "outputs": [],
      "source": [
        "from google.colab import drive\n",
        "drive.mount('/content/gdrive')\n",
        "\n",
        "from zipfile import ZipFile\n",
        "file_name = \"/content/gdrive/MyDrive/fer2013.zip\"\n",
        "\n",
        "with ZipFile(file_name, 'r') as zip:\n",
        "  zip.extractall()\n",
        "  print('Done')"
      ]
    },
    {
      "cell_type": "code",
      "execution_count": null,
      "metadata": {
        "id": "c5AMQtriUDhT"
      },
      "outputs": [],
      "source": [
        "import pandas as pd\n",
        "import numpy as np\n",
        "import matplotlib.pyplot as plt\n",
        "plt.style.use('default')\n",
        "import os\n",
        "import tensorflow as tf\n",
        "import keras\n",
        "import cv2\n",
        "from sklearn.model_selection import train_test_split\n",
        "from tensorflow.keras.preprocessing.image import ImageDataGenerator, load_img, img_to_array\n",
        "from tensorflow.keras.callbacks import EarlyStopping, ModelCheckpoint, ReduceLROnPlateau\n",
        "from tensorflow.keras.utils import plot_model\n",
        "from tensorflow.keras import layers , models, optimizers\n",
        "from tensorflow.keras.models import Sequential, Model\n",
        "from tensorflow.keras.layers import *\n",
        "from tensorflow.keras.applications import ResNet50V2"
      ]
    },
    {
      "cell_type": "code",
      "execution_count": null,
      "metadata": {
        "id": "m4R1KzwNkK50"
      },
      "outputs": [],
      "source": [
        "# specifing new image shape for resnet\n",
        "img_shape = 224\n",
        "batch_size = 64\n",
        "train_data_path = '/content/fer2013/train/'\n",
        "test_data_path = '/content/fer2013/test/'"
      ]
    },
    {
      "cell_type": "code",
      "execution_count": null,
      "metadata": {
        "id": "k93YSfsMkNHs"
      },
      "outputs": [],
      "source": [
        "train_preprocessor = ImageDataGenerator(\n",
        "        rescale = 1 / 255.,\n",
        "        rotation_range=10,\n",
        "        zoom_range=0.2,\n",
        "        width_shift_range=0.2,\n",
        "        height_shift_range=0.2,\n",
        "        horizontal_flip=True,                                        \n",
        "        fill_mode='nearest',\n",
        "    )\n",
        "\n",
        "test_preprocessor = ImageDataGenerator(\n",
        "    rescale = 1 / 255.,\n",
        ")\n",
        "\n",
        "train_data = train_preprocessor.flow_from_directory(\n",
        "    train_data_path,\n",
        "    class_mode=\"categorical\",\n",
        "    target_size=(img_shape,img_shape),\n",
        "    color_mode='rgb',\n",
        "    shuffle=True,\n",
        "    batch_size=batch_size,\n",
        "    subset='training', \n",
        ")\n",
        "\n",
        "test_data = test_preprocessor.flow_from_directory(\n",
        "    test_data_path,\n",
        "    class_mode=\"categorical\",\n",
        "    target_size=(img_shape,img_shape),\n",
        "    color_mode=\"rgb\",\n",
        "    shuffle=False,\n",
        "    batch_size=batch_size,\n",
        ")"
      ]
    },
    {
      "cell_type": "code",
      "execution_count": null,
      "metadata": {
        "id": "wN-RYtQLkNys"
      },
      "outputs": [],
      "source": [
        "# 224,224,3\n",
        "ResNet50V2 = tf.keras.applications.ResNet50V2(input_shape=(224, 224, 3),\n",
        "                                               include_top= False,\n",
        "                                               weights='imagenet'\n",
        "                                               )\n",
        "\n",
        "#ResNet50V2.summary()"
      ]
    },
    {
      "cell_type": "code",
      "execution_count": null,
      "metadata": {
        "id": "YO8RM1U6kVV0"
      },
      "outputs": [],
      "source": [
        "# Freezing all layers except last 50\n",
        "\n",
        "ResNet50V2.trainable = True\n",
        "\n",
        "for layer in ResNet50V2.layers[:-50]:\n",
        "    layer.trainable = False"
      ]
    },
    {
      "cell_type": "code",
      "execution_count": null,
      "metadata": {
        "id": "ZYJ8WxE6kXGD"
      },
      "outputs": [],
      "source": [
        "def Create_ResNet50V2_Model():\n",
        "\n",
        "    model = Sequential([\n",
        "                      ResNet50V2,\n",
        "                      Dropout(.25),\n",
        "                      BatchNormalization(),\n",
        "                      Flatten(),\n",
        "                      Dense(64, activation='relu'),\n",
        "                      BatchNormalization(),\n",
        "                      Dropout(.5),\n",
        "                      Dense(7,activation='softmax')\n",
        "                    ])\n",
        "    return model"
      ]
    },
    {
      "cell_type": "code",
      "execution_count": null,
      "metadata": {
        "id": "e_VqyZNAkYxM"
      },
      "outputs": [],
      "source": [
        "ResNet50V2_Model = Create_ResNet50V2_Model()\n",
        "\n",
        "ResNet50V2_Model.summary()\n",
        "\n",
        "optimizer = \"adam\"\n",
        "#optimizer = tf.keras.optimizers.experimental.SGD(learning_rate=0.01,momentum=0.5,weight_decay=0.0001,nesterov=True)\n",
        "\n",
        "ResNet50V2_Model.compile(optimizer=optimizer, loss='categorical_crossentropy', metrics=['accuracy'])"
      ]
    },
    {
      "cell_type": "code",
      "execution_count": null,
      "metadata": {
        "id": "chXHdrhuka4c"
      },
      "outputs": [],
      "source": [
        "# Create Callback Checkpoint\n",
        "checkpoint_path = \"ResNet50V2_Model_Checkpoint\"\n",
        "\n",
        "Checkpoint = ModelCheckpoint(checkpoint_path, monitor=\"val_accuracy\", save_best_only=True)\n",
        "\n",
        "# Create Early Stopping Callback to monitor the accuracy\n",
        "Early_Stopping = EarlyStopping(monitor = 'val_accuracy', patience = 5, restore_best_weights = True, verbose=1)\n",
        "#Early_Stopping = EarlyStopping(monitor = 'val_accuracy', patience = 7, restore_best_weights = True, verbose=1)\n",
        "\n",
        "# Create ReduceLROnPlateau Callback to reduce overfitting by decreasing learning\n",
        "#Reducing_LR = tf.keras.callbacks.ReduceLROnPlateau(monitor='val_loss',factor=0.75,patience=2,mode=\"min\",verbose=1)\n",
        "Reducing_LR = tf.keras.callbacks.ReduceLROnPlateau(monitor='val_loss',factor=0.2,patience=2,min_lr=0.00005,verbose=1)\n",
        "\n",
        "callbacks = [Early_Stopping, Reducing_LR, Checkpoint]\n",
        "\n",
        "steps_per_epoch = train_data.n // train_data.batch_size\n",
        "validation_steps = test_data.n // test_data.batch_size"
      ]
    },
    {
      "cell_type": "code",
      "execution_count": null,
      "metadata": {
        "id": "IirliwyokiFb"
      },
      "outputs": [],
      "source": [
        "import absl.logging\n",
        "absl.logging.set_verbosity(absl.logging.ERROR)\n",
        "\n",
        "ResNet101V2_history = ResNet50V2_Model.fit(train_data ,validation_data = test_data , epochs=100, batch_size=batch_size,callbacks = callbacks, steps_per_epoch=steps_per_epoch, validation_steps=validation_steps)"
      ]
    },
    {
      "cell_type": "code",
      "execution_count": null,
      "metadata": {
        "id": "-AazxZOYkmnc"
      },
      "outputs": [],
      "source": [
        "ResNet101V2_Score = ResNet50V2_Model.evaluate(test_data)\n",
        "\n",
        "print(\"    Test Loss: {:.5f}\".format(ResNet101V2_Score[0]))\n",
        "print(\"Test Accuracy: {:.2f}%\".format(ResNet101V2_Score[1] * 100))"
      ]
    },
    {
      "cell_type": "code",
      "execution_count": null,
      "metadata": {
        "id": "pOpyutXyk3rk"
      },
      "outputs": [],
      "source": [
        "def plot_curves(history):\n",
        "\n",
        "    loss = history.history[\"loss\"]\n",
        "    val_loss = history.history[\"val_loss\"]\n",
        "\n",
        "    accuracy = history.history[\"accuracy\"]\n",
        "    val_accuracy = history.history[\"val_accuracy\"]\n",
        "\n",
        "    epochs = range(len(history.history[\"loss\"]))\n",
        "\n",
        "    plt.figure(figsize=(15,5))\n",
        "\n",
        "    #plot loss\n",
        "    plt.subplot(1, 2, 1)\n",
        "    plt.plot(epochs, loss, label = \"training_loss\")\n",
        "    plt.plot(epochs, val_loss, label = \"val_loss\")\n",
        "    plt.title(\"Loss\")\n",
        "    plt.xlabel(\"epochs\")\n",
        "    plt.legend()\n",
        "\n",
        "    #plot accuracy\n",
        "    plt.subplot(1, 2, 2)\n",
        "    plt.plot(epochs, accuracy, label = \"training_accuracy\")\n",
        "    plt.plot(epochs, val_accuracy, label = \"val_accuracy\")\n",
        "    plt.title(\"Accuracy\")\n",
        "    plt.xlabel(\"epochs\")\n",
        "    plt.legend()\n",
        "  \n",
        "  #plt.tight_layout()"
      ]
    },
    {
      "cell_type": "code",
      "execution_count": null,
      "metadata": {
        "id": "JYG72z80km_j"
      },
      "outputs": [],
      "source": [
        "plot_curves(ResNet101V2_history)"
      ]
    },
    {
      "cell_type": "code",
      "execution_count": null,
      "metadata": {
        "id": "rskbKlLokrEs"
      },
      "outputs": [],
      "source": [
        "import seaborn as sns \n",
        "from sklearn.metrics import confusion_matrix\n",
        "\n",
        "fig , ax= plt.subplots(figsize=(15,10))\n",
        "\n",
        "cm=confusion_matrix(test_data.labels, ResNet50V2_Predictions)\n",
        "\n",
        "sns.heatmap(cm, annot=True, fmt='g', ax=ax)\n",
        "\n",
        "ax.set_xlabel('Predicted labels',fontsize=15, fontweight='bold')\n",
        "ax.set_ylabel('True labels', fontsize=15, fontweight='bold')\n",
        "ax.set_title('ResNet50V2 Confusion Matrix', fontsize=20, fontweight='bold')"
      ]
    }
  ],
  "metadata": {
    "accelerator": "GPU",
    "colab": {
      "machine_shape": "hm",
      "provenance": []
    },
    "gpuClass": "standard",
    "kernelspec": {
      "display_name": "Python 3",
      "name": "python3"
    },
    "language_info": {
      "name": "python"
    }
  },
  "nbformat": 4,
  "nbformat_minor": 0
}
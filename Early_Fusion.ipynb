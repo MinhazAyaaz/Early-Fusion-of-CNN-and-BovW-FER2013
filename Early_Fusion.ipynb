{
  "cells": [
    {
      "cell_type": "code",
      "execution_count": null,
      "metadata": {
        "id": "VasL47TNlTK5",
        "colab": {
          "base_uri": "https://localhost:8080/"
        },
        "outputId": "d5002b0e-9e3a-4375-afdd-3627b8cf7c6d"
      },
      "outputs": [
        {
          "output_type": "stream",
          "name": "stdout",
          "text": [
            "Mounted at /content/gdrive\n",
            "Done\n"
          ]
        }
      ],
      "source": [
        "from google.colab import drive\n",
        "drive.mount('/content/gdrive')\n",
        "\n",
        "from zipfile import ZipFile\n",
        "file_name = \"/content/gdrive/MyDrive/fer2013.zip\"\n",
        "with ZipFile(file_name, 'r') as zip:\n",
        "  zip.extractall()\n",
        "  print('Done')"
      ]
    },
    {
      "cell_type": "code",
      "execution_count": null,
      "metadata": {
        "id": "fy8AjfYimZ2W"
      },
      "outputs": [],
      "source": [
        "import os\n",
        "import cv2\n",
        "import numpy as np\n",
        "from sklearn.model_selection import train_test_split\n",
        "\n",
        "# Define the path to the FER2013 dataset\n",
        "dataset_path = '/content/fer2013/'\n",
        "train_dir = os.path.join(dataset_path, 'train')\n",
        "test_dir = os.path.join(dataset_path, 'test')\n",
        "\n",
        "# Define the mapping from folder names to integer labels\n",
        "emotion_mapping = {\n",
        "    'angry': 0,\n",
        "    'disgust': 1,\n",
        "    'fear': 2,\n",
        "    'happy': 3,\n",
        "    'sad': 4,\n",
        "    'surprise': 5,\n",
        "    'neutral': 6\n",
        "}\n",
        "\n",
        "# Helper function to preprocess images\n",
        "def preprocess_data(data_dir, mapping):\n",
        "    images = []\n",
        "    labels = []\n",
        "    for emotion_dir in os.listdir(data_dir):\n",
        "        emotion_path = os.path.join(data_dir, emotion_dir)\n",
        "        for image_name in os.listdir(emotion_path):\n",
        "            image_path = os.path.join(emotion_path, image_name)\n",
        "            image = cv2.imread(image_path, cv2.IMREAD_GRAYSCALE)\n",
        "            image = cv2.normalize(image, None, 0, 255, cv2.NORM_MINMAX, cv2.CV_8U)\n",
        "            images.append(image)\n",
        "            labels.append(mapping[emotion_dir])\n",
        "    return np.array(images), np.array(labels)\n",
        "\n",
        "# Preprocess the data\n",
        "X_train, y_train = preprocess_data(train_dir, emotion_mapping)\n",
        "X_test, y_test = preprocess_data(test_dir, emotion_mapping)\n",
        "\n",
        "# # Create a validation set from the training set\n",
        "# validation_split = 0.2\n",
        "# X_train, X_val, y_train, y_val = train_test_split(X_train, y_train, test_size=validation_split, stratify=y_train, random_state=42)"
      ]
    },
    {
      "cell_type": "code",
      "execution_count": null,
      "metadata": {
        "id": "qaF77-iUoHc8",
        "colab": {
          "base_uri": "https://localhost:8080/"
        },
        "outputId": "052e87da-8b7f-4f59-e8c2-2396845fbf8a"
      },
      "outputs": [
        {
          "output_type": "stream",
          "name": "stderr",
          "text": [
            "/usr/local/lib/python3.10/dist-packages/sklearn/cluster/_kmeans.py:870: FutureWarning: The default value of `n_init` will change from 10 to 'auto' in 1.4. Set the value of `n_init` explicitly to suppress the warning\n",
            "  warnings.warn(\n"
          ]
        }
      ],
      "source": [
        "import cv2\n",
        "from sklearn.cluster import KMeans\n",
        "\n",
        "# Feature descriptor (SIFT)\n",
        "sift = cv2.SIFT_create()\n",
        "\n",
        "def extract_sift_features(images, min_keypoints=10):\n",
        "    features = []\n",
        "    valid_indices = []\n",
        "    for i, img in enumerate(images):\n",
        "        kp, des = sift.detectAndCompute(img, None)\n",
        "        if des is not None and des.shape[0] >= min_keypoints:\n",
        "            features.append(des)\n",
        "            valid_indices.append(i)\n",
        "    return features, valid_indices\n",
        "\n",
        "# Extract SIFT features for all images\n",
        "sift_features_train, valid_indices_train = extract_sift_features(X_train)\n",
        "# sift_features_val, valid_indices_val = extract_sift_features(X_val)\n",
        "sift_features_test, valid_indices_test = extract_sift_features(X_test)\n",
        "\n",
        "# Create the visual vocabulary using k-means clustering\n",
        "k = 100   #100 visual words\n",
        "kmeans = KMeans(n_clusters=k)\n",
        "kmeans.fit(np.vstack(sift_features_train))\n",
        "\n",
        "# Helper function to create a BoVW histogram\n",
        "def create_bovw_histogram(features, kmeans):\n",
        "    hist = np.zeros((len(features), kmeans.n_clusters))\n",
        "    for i, des in enumerate(features):\n",
        "        if des is not None:\n",
        "            words = kmeans.predict(des)\n",
        "            for word in words:\n",
        "                hist[i, word] += 1\n",
        "    return hist\n",
        "\n",
        "# Create BoVW histograms for all images\n",
        "bovw_train = create_bovw_histogram(sift_features_train, kmeans)\n",
        "# bovw_val = create_bovw_histogram(sift_features_val, kmeans)\n",
        "bovw_test = create_bovw_histogram(sift_features_test, kmeans)"
      ]
    },
    {
      "cell_type": "code",
      "execution_count": null,
      "metadata": {
        "id": "Fgv4YaPYyiyr"
      },
      "outputs": [],
      "source": [
        "import numpy as np\n",
        "\n",
        "# Save the BoVW features to disk\n",
        "np.save('bovw_train.npy', bovw_train)\n",
        "np.save('bovw_val.npy', bovw_val)\n",
        "np.save('bovw_test.npy', bovw_test)"
      ]
    },
    {
      "cell_type": "code",
      "source": [
        "import tensorflow as tf\n",
        "\n",
        "model = tf.keras.models.load_model('/content/gdrive/MyDrive/ResNet50V2_Model.h5')\n",
        "\n",
        "model.layers.pop()\n",
        "\n",
        "model = tf.keras.Model(inputs=model.inputs, outputs=model.layers[-1].output)"
      ],
      "metadata": {
        "id": "fYP4dHQSlQbq"
      },
      "execution_count": null,
      "outputs": []
    },
    {
      "cell_type": "code",
      "execution_count": null,
      "metadata": {
        "id": "GgsMs_Dxreez",
        "colab": {
          "base_uri": "https://localhost:8080/"
        },
        "outputId": "ede4562e-7788-424c-b999-9882c7c2f9a7"
      },
      "outputs": [
        {
          "output_type": "stream",
          "name": "stdout",
          "text": [
            "898/898 [==============================] - 21s 13ms/step\n",
            "225/225 [==============================] - 3s 14ms/step\n"
          ]
        }
      ],
      "source": [
        "from tensorflow.keras.applications import MobileNetV2\n",
        "from tensorflow.keras.applications.mobilenet_v2 import preprocess_input\n",
        "from tensorflow.keras.preprocessing.image import img_to_array\n",
        "from tensorflow.keras.models import Model\n",
        "\n",
        "# # Load the pre-trained MobileNetV2 model\n",
        "# base_model = MobileNetV2(weights='imagenet', include_top=True)\n",
        "# # Remove the last layer to use the penultimate layer for feature extraction\n",
        "# model = Model(inputs=base_model.input, outputs=base_model.layers[-2].output)\n",
        "\n",
        "# Helper function to preprocess images for the CNN model\n",
        "def preprocess_images_cnn(images, target_size=(224, 224)):\n",
        "    preprocessed_images = []\n",
        "    for img in images:\n",
        "        img = cv2.resize(img, target_size)\n",
        "        img = np.stack((img,)*3, axis=-1)  # Convert grayscale to 3-channel images\n",
        "        img = img_to_array(img)\n",
        "        img = preprocess_input(img)\n",
        "        preprocessed_images.append(img)\n",
        "    return np.array(preprocessed_images)\n",
        "\n",
        "# Preprocess the images for the CNN model\n",
        "X_train_cnn = preprocess_images_cnn(X_train)\n",
        "# X_val_cnn = preprocess_images_cnn(X_val)\n",
        "X_test_cnn = preprocess_images_cnn(X_test)\n",
        "\n",
        "# Extract the CNN features\n",
        "cnn_train = model.predict(X_train_cnn)\n",
        "# cnn_val = model.predict(X_val_cnn)\n",
        "cnn_test = model.predict(X_test_cnn)"
      ]
    },
    {
      "cell_type": "code",
      "execution_count": null,
      "metadata": {
        "id": "R1B9aKl0FuYH"
      },
      "outputs": [],
      "source": [
        "cnn_train = cnn_train[valid_indices_train]\n",
        "# cnn_val = cnn_val[valid_indices_val]\n",
        "cnn_test = cnn_test[valid_indices_test]"
      ]
    },
    {
      "cell_type": "code",
      "execution_count": null,
      "metadata": {
        "id": "p9bR05GjyFN_"
      },
      "outputs": [],
      "source": [
        "import numpy as np\n",
        "\n",
        "# Save the CNN features to disk\n",
        "np.save('cnn_train.npy', cnn_train)\n",
        "np.save('cnn_val.npy', cnn_val)\n",
        "np.save('cnn_test.npy', cnn_test)"
      ]
    },
    {
      "cell_type": "code",
      "execution_count": null,
      "metadata": {
        "id": "2qr7Jw-mzLIV"
      },
      "outputs": [],
      "source": [
        "# Load the saved BoVW features from disk\n",
        "bovw_train = np.load('bovw_train.npy')\n",
        "bovw_val = np.load('bovw_val.npy')\n",
        "bovw_test = np.load('bovw_test.npy')\n",
        "\n",
        "# Load the saved CNN features from disk\n",
        "cnn_train = np.load('cnn_train.npy')\n",
        "cnn_val = np.load('cnn_val.npy')\n",
        "cnn_test = np.load('cnn_test.npy')"
      ]
    },
    {
      "cell_type": "code",
      "execution_count": null,
      "metadata": {
        "id": "BzWrxp-cxaPH"
      },
      "outputs": [],
      "source": [
        "# Concatenate BoVW and CNN features\n",
        "combined_train = np.hstack((bovw_train, cnn_train))\n",
        "# combined_val = np.hstack((bovw_val, cnn_val))\n",
        "combined_test = np.hstack((bovw_test, cnn_test))\n",
        "\n",
        "# Normalize the combined feature vectors\n",
        "from sklearn.preprocessing import StandardScaler\n",
        "\n",
        "scaler = StandardScaler()\n",
        "combined_train = scaler.fit_transform(combined_train)\n",
        "# combined_val = scaler.transform(combined_val)\n",
        "combined_test = scaler.transform(combined_test)"
      ]
    },
    {
      "cell_type": "code",
      "execution_count": null,
      "metadata": {
        "id": "stoNitzVLA7N"
      },
      "outputs": [],
      "source": [
        "y_train = y_train[valid_indices_train]\n",
        "# y_val = y_val[valid_indices_val]\n",
        "y_test = y_test[valid_indices_test]"
      ]
    },
    {
      "cell_type": "code",
      "source": [
        "from sklearn.svm import SVC\n",
        "from sklearn.metrics import accuracy_score\n",
        "\n",
        "# Train a Support Vector Machine (SVM) classifier\n",
        "svm = SVC(kernel='rbf', C=1)\n",
        "svm.fit(combined_train, y_train)\n",
        "\n",
        "# # Validate the model\n",
        "# y_val_pred = svm.predict(cnn_val)\n",
        "# val_accuracy = accuracy_score(y_val, y_val_pred)\n",
        "# print(f\"Validation accuracy: {val_accuracy:.4f}\")"
      ],
      "metadata": {
        "id": "UAi4e78_3ctb",
        "colab": {
          "base_uri": "https://localhost:8080/",
          "height": 75
        },
        "outputId": "a75b57a0-db78-432a-d045-d55011714b13"
      },
      "execution_count": null,
      "outputs": [
        {
          "output_type": "execute_result",
          "data": {
            "text/plain": [
              "SVC(C=1)"
            ],
            "text/html": [
              "<style>#sk-container-id-4 {color: black;background-color: white;}#sk-container-id-4 pre{padding: 0;}#sk-container-id-4 div.sk-toggleable {background-color: white;}#sk-container-id-4 label.sk-toggleable__label {cursor: pointer;display: block;width: 100%;margin-bottom: 0;padding: 0.3em;box-sizing: border-box;text-align: center;}#sk-container-id-4 label.sk-toggleable__label-arrow:before {content: \"▸\";float: left;margin-right: 0.25em;color: #696969;}#sk-container-id-4 label.sk-toggleable__label-arrow:hover:before {color: black;}#sk-container-id-4 div.sk-estimator:hover label.sk-toggleable__label-arrow:before {color: black;}#sk-container-id-4 div.sk-toggleable__content {max-height: 0;max-width: 0;overflow: hidden;text-align: left;background-color: #f0f8ff;}#sk-container-id-4 div.sk-toggleable__content pre {margin: 0.2em;color: black;border-radius: 0.25em;background-color: #f0f8ff;}#sk-container-id-4 input.sk-toggleable__control:checked~div.sk-toggleable__content {max-height: 200px;max-width: 100%;overflow: auto;}#sk-container-id-4 input.sk-toggleable__control:checked~label.sk-toggleable__label-arrow:before {content: \"▾\";}#sk-container-id-4 div.sk-estimator input.sk-toggleable__control:checked~label.sk-toggleable__label {background-color: #d4ebff;}#sk-container-id-4 div.sk-label input.sk-toggleable__control:checked~label.sk-toggleable__label {background-color: #d4ebff;}#sk-container-id-4 input.sk-hidden--visually {border: 0;clip: rect(1px 1px 1px 1px);clip: rect(1px, 1px, 1px, 1px);height: 1px;margin: -1px;overflow: hidden;padding: 0;position: absolute;width: 1px;}#sk-container-id-4 div.sk-estimator {font-family: monospace;background-color: #f0f8ff;border: 1px dotted black;border-radius: 0.25em;box-sizing: border-box;margin-bottom: 0.5em;}#sk-container-id-4 div.sk-estimator:hover {background-color: #d4ebff;}#sk-container-id-4 div.sk-parallel-item::after {content: \"\";width: 100%;border-bottom: 1px solid gray;flex-grow: 1;}#sk-container-id-4 div.sk-label:hover label.sk-toggleable__label {background-color: #d4ebff;}#sk-container-id-4 div.sk-serial::before {content: \"\";position: absolute;border-left: 1px solid gray;box-sizing: border-box;top: 0;bottom: 0;left: 50%;z-index: 0;}#sk-container-id-4 div.sk-serial {display: flex;flex-direction: column;align-items: center;background-color: white;padding-right: 0.2em;padding-left: 0.2em;position: relative;}#sk-container-id-4 div.sk-item {position: relative;z-index: 1;}#sk-container-id-4 div.sk-parallel {display: flex;align-items: stretch;justify-content: center;background-color: white;position: relative;}#sk-container-id-4 div.sk-item::before, #sk-container-id-4 div.sk-parallel-item::before {content: \"\";position: absolute;border-left: 1px solid gray;box-sizing: border-box;top: 0;bottom: 0;left: 50%;z-index: -1;}#sk-container-id-4 div.sk-parallel-item {display: flex;flex-direction: column;z-index: 1;position: relative;background-color: white;}#sk-container-id-4 div.sk-parallel-item:first-child::after {align-self: flex-end;width: 50%;}#sk-container-id-4 div.sk-parallel-item:last-child::after {align-self: flex-start;width: 50%;}#sk-container-id-4 div.sk-parallel-item:only-child::after {width: 0;}#sk-container-id-4 div.sk-dashed-wrapped {border: 1px dashed gray;margin: 0 0.4em 0.5em 0.4em;box-sizing: border-box;padding-bottom: 0.4em;background-color: white;}#sk-container-id-4 div.sk-label label {font-family: monospace;font-weight: bold;display: inline-block;line-height: 1.2em;}#sk-container-id-4 div.sk-label-container {text-align: center;}#sk-container-id-4 div.sk-container {/* jupyter's `normalize.less` sets `[hidden] { display: none; }` but bootstrap.min.css set `[hidden] { display: none !important; }` so we also need the `!important` here to be able to override the default hidden behavior on the sphinx rendered scikit-learn.org. See: https://github.com/scikit-learn/scikit-learn/issues/21755 */display: inline-block !important;position: relative;}#sk-container-id-4 div.sk-text-repr-fallback {display: none;}</style><div id=\"sk-container-id-4\" class=\"sk-top-container\"><div class=\"sk-text-repr-fallback\"><pre>SVC(C=1)</pre><b>In a Jupyter environment, please rerun this cell to show the HTML representation or trust the notebook. <br />On GitHub, the HTML representation is unable to render, please try loading this page with nbviewer.org.</b></div><div class=\"sk-container\" hidden><div class=\"sk-item\"><div class=\"sk-estimator sk-toggleable\"><input class=\"sk-toggleable__control sk-hidden--visually\" id=\"sk-estimator-id-4\" type=\"checkbox\" checked><label for=\"sk-estimator-id-4\" class=\"sk-toggleable__label sk-toggleable__label-arrow\">SVC</label><div class=\"sk-toggleable__content\"><pre>SVC(C=1)</pre></div></div></div></div></div>"
            ]
          },
          "metadata": {},
          "execution_count": 20
        }
      ]
    },
    {
      "cell_type": "code",
      "source": [
        "# Test the model\n",
        "\n",
        "y_test_pred = svm.predict(combined_test)\n",
        "test_accuracy = accuracy_score(y_test, y_test_pred)\n",
        "print(f\"Test accuracy: {test_accuracy:.4f}\")\n",
        "\n",
        "# Compute other performance metrics\n",
        "from sklearn.metrics import classification_report\n",
        "print(\"Classification report:\")\n",
        "print(classification_report(y_test, y_test_pred))"
      ],
      "metadata": {
        "id": "g8yOBRuZ3wi2",
        "colab": {
          "base_uri": "https://localhost:8080/"
        },
        "outputId": "d64162ec-7871-432e-902d-f7a85a7aa079"
      },
      "execution_count": null,
      "outputs": [
        {
          "output_type": "stream",
          "name": "stdout",
          "text": [
            "Test accuracy: 0.6067\n",
            "Classification report:\n",
            "              precision    recall  f1-score   support\n",
            "\n",
            "           0       0.53      0.47      0.50       951\n",
            "           1       0.82      0.54      0.65       111\n",
            "           2       0.44      0.45      0.45      1023\n",
            "           3       0.85      0.79      0.82      1767\n",
            "           4       0.45      0.50      0.47      1241\n",
            "           5       0.74      0.73      0.74       826\n",
            "           6       0.55      0.60      0.58      1228\n",
            "\n",
            "    accuracy                           0.61      7147\n",
            "   macro avg       0.63      0.58      0.60      7147\n",
            "weighted avg       0.61      0.61      0.61      7147\n",
            "\n"
          ]
        }
      ]
    },
    {
      "cell_type": "code",
      "source": [
        "import seaborn as sns\n",
        "import matplotlib.pyplot as plt\n",
        "from sklearn.metrics import confusion_matrix\n",
        "\n",
        "# Compute the confusion matrix\n",
        "cm = confusion_matrix(y_test, y_test_pred)\n",
        "\n",
        "# Plot the confusion matrix using a heatmap\n",
        "plt.figure(figsize=(10, 8))\n",
        "sns.heatmap(cm, annot=True, fmt='d', cmap='Blues', xticklabels=True, yticklabels=True)\n",
        "plt.xlabel('Predicted')\n",
        "plt.ylabel('True')\n",
        "plt.title('Confusion Matrix')\n",
        "plt.show()"
      ],
      "metadata": {
        "id": "D6XfNvBxfZKy",
        "colab": {
          "base_uri": "https://localhost:8080/",
          "height": 718
        },
        "outputId": "2e4cf411-86fe-4edf-9e2d-7de6fcde0c43"
      },
      "execution_count": null,
      "outputs": [
        {
          "output_type": "display_data",
          "data": {
            "text/plain": [
              "<Figure size 1000x800 with 2 Axes>"
            ],
            "image/png": "[encoded data removed]"
          },
          "metadata": {}
        }
      ]
    }
  ],
  "metadata": {
    "accelerator": "GPU",
    "colab": {
      "provenance": [],
      "machine_shape": "hm",
      "gpuType": "A100"
    },
    "gpuClass": "standard",
    "kernelspec": {
      "display_name": "Python 3",
      "name": "python3"
    },
    "language_info": {
      "name": "python"
    }
  },
  "nbformat": 4,
  "nbformat_minor": 0
}